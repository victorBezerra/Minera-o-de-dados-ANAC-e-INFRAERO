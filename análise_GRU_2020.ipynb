{
  "nbformat": 4,
  "nbformat_minor": 0,
  "metadata": {
    "colab": {
      "name": "análise_GRU_2020.ipynb",
      "provenance": [],
      "authorship_tag": "ABX9TyNc/Nk1eZS9V083Bwkgn2AG",
      "include_colab_link": true
    },
    "kernelspec": {
      "name": "python3",
      "display_name": "Python 3"
    },
    "language_info": {
      "name": "python"
    }
  },
  "cells": [
    {
      "cell_type": "markdown",
      "metadata": {
        "id": "view-in-github",
        "colab_type": "text"
      },
      "source": [
        "<a href=\"https://colab.research.google.com/github/victorBezerra/Minera-o-de-dados-ANAC-e-INFRAERO/blob/main/an%C3%A1lise_GRU_2020.ipynb\" target=\"_parent\"><img src=\"https://colab.research.google.com/assets/colab-badge.svg\" alt=\"Open In Colab\"/></a>"
      ]
    },
    {
      "cell_type": "code",
      "metadata": {
        "id": "gyFQCvg0d3mO"
      },
      "source": [
        "import pandas as pd\n",
        "import datetime as dt\n",
        "import matplotlib as mt\n",
        "import matplotlib.pyplot as plt\n",
        "import numpy as np"
      ],
      "execution_count": null,
      "outputs": []
    },
    {
      "cell_type": "code",
      "metadata": {
        "colab": {
          "base_uri": "https://localhost:8080/"
        },
        "id": "f8UJfBpUd54q",
        "outputId": "6a72f54a-01a5-4145-c1a7-333c1afb6cc3"
      },
      "source": [
        "dadosAnacGRUS20 = pd.read_csv(\"https://sistemas.anac.gov.br/dadosabertos/Voos%20e%20opera%C3%A7%C3%B5es%20a%C3%A9reas/Slots%20Alocados/2020/GRU/S20/LIVE_GRU_S20-SD.csv\", sep=\";\", encoding=\"utf_8\", skiprows=[0])\n",
        "dadosAnacGRUW20 = pd.read_csv(\"https://sistemas.anac.gov.br/dadosabertos/Voos%20e%20opera%C3%A7%C3%B5es%20a%C3%A9reas/Slots%20Alocados/2020/GRU/W20/LIVE_GRU_W20-SD.csv\", sep=\";\", encoding=\"utf_8\", skiprows=[0])\n",
        "dadosAnacGRUW19 = pd.read_csv(\"https://sistemas.anac.gov.br/dadosabertos/Voos%20e%20opera%C3%A7%C3%B5es%20a%C3%A9reas/Slots%20Alocados/2019/GRU/W19/LIVE_GRU_W19-SD.csv\", sep = \";\", encoding=\"utf_8\", skiprows=[0])"
      ],
      "execution_count": null,
      "outputs": [
        {
          "output_type": "stream",
          "name": "stderr",
          "text": [
            "/usr/local/lib/python3.7/dist-packages/IPython/core/interactiveshell.py:2718: DtypeWarning: Columns (2) have mixed types.Specify dtype option on import or set low_memory=False.\n",
            "  interactivity=interactivity, compiler=compiler, result=result)\n"
          ]
        }
      ]
    },
    {
      "cell_type": "code",
      "metadata": {
        "id": "W4o_AdNIeIPI"
      },
      "source": [
        "dadosAnacGRUS20['DatadoVoo'] = pd.to_datetime(dadosAnacGRUS20['DatadoVoo'])\n",
        "dadosAnacGRUS20['DatadoVoo'] = dadosAnacGRUS20['DatadoVoo'].dt.month\n",
        "dadosAnacGRUW20['DatadoVoo'] = pd.to_datetime(dadosAnacGRUW20['DatadoVoo'])\n",
        "dadosAnacGRUW20['DatadoVoo'] = dadosAnacGRUW20['DatadoVoo'].dt.month\n",
        "dadosAnacGRUW19['DatadoVoo'] = pd.to_datetime(dadosAnacGRUW19['DatadoVoo'])\n",
        "dadosAnacGRUW19['DatadoVoo'] = dadosAnacGRUW19['DatadoVoo'].dt.month"
      ],
      "execution_count": null,
      "outputs": []
    },
    {
      "cell_type": "code",
      "metadata": {
        "id": "5VNK7BrqeKS4"
      },
      "source": [
        "removeGRU = dadosAnacGRUW19.loc[(dadosAnacGRUW19['DatadoVoo'] == 10) | (dadosAnacGRUW19['DatadoVoo'] == 11) | (dadosAnacGRUW19['DatadoVoo'] == 12)]\n",
        "dadosAnacGRUW19 = dadosAnacGRUW19.drop(removeGRU.index)\n",
        "removeGRU = dadosAnacGRUW20.loc[(dadosAnacGRUW20['DatadoVoo'] == 1) | (dadosAnacGRUW20['DatadoVoo'] == 2) | (dadosAnacGRUW20['DatadoVoo'] == 3)]\n",
        "dadosAnacGRUW20 = dadosAnacGRUW20.drop(removeGRU.index)"
      ],
      "execution_count": null,
      "outputs": []
    },
    {
      "cell_type": "code",
      "metadata": {
        "id": "prty6UTUeMQI"
      },
      "source": [
        "dadosAnacGRUMerge  = pd.merge(dadosAnacGRUS20, dadosAnacGRUW20, how='outer')\n",
        "dadosAnacGRUConcat = pd.concat([dadosAnacGRUMerge, dadosAnacGRUW19])"
      ],
      "execution_count": null,
      "outputs": []
    },
    {
      "cell_type": "code",
      "metadata": {
        "id": "4B7FSXPVep-I"
      },
      "source": [
        "dadosAnacGRUJan20 = dadosAnacGRUConcat.loc[dadosAnacGRUConcat['DatadoVoo'] == 1]\n",
        "dadosAnacGRUFev20 = dadosAnacGRUConcat.loc[dadosAnacGRUConcat['DatadoVoo'] == 2]\n",
        "dadosAnacGRUMar20 = dadosAnacGRUConcat.loc[dadosAnacGRUConcat['DatadoVoo'] == 3]\n",
        "dadosAnacGRUAbr20 = dadosAnacGRUConcat.loc[dadosAnacGRUConcat['DatadoVoo'] == 4]\n",
        "dadosAnacGRUMai20 = dadosAnacGRUConcat.loc[dadosAnacGRUConcat['DatadoVoo'] == 5]\n",
        "dadosAnacGRUJun20 = dadosAnacGRUConcat.loc[dadosAnacGRUConcat['DatadoVoo'] == 6]\n",
        "dadosAnacGRUJul20 = dadosAnacGRUConcat.loc[dadosAnacGRUConcat['DatadoVoo'] == 7]\n",
        "dadosAnacGRUAgo20 = dadosAnacGRUConcat.loc[dadosAnacGRUConcat['DatadoVoo'] == 8]\n",
        "dadosAnacGRUSet20 = dadosAnacGRUConcat.loc[dadosAnacGRUConcat['DatadoVoo'] == 9]\n",
        "dadosAnacGRUOut20 = dadosAnacGRUConcat.loc[dadosAnacGRUConcat['DatadoVoo'] == 10]\n",
        "dadosAnacGRUNov20 = dadosAnacGRUConcat.loc[dadosAnacGRUConcat['DatadoVoo'] == 11]\n",
        "dadosAnacGRUDez20 = dadosAnacGRUConcat.loc[dadosAnacGRUConcat['DatadoVoo'] == 12]"
      ],
      "execution_count": null,
      "outputs": []
    },
    {
      "cell_type": "code",
      "metadata": {
        "colab": {
          "base_uri": "https://localhost:8080/"
        },
        "id": "oCIaGhqOetPI",
        "outputId": "a1a9bfcc-6b5c-422b-fe03-8fe5e0bb748a"
      },
      "source": [
        "somaAnacGRUJan = dadosAnacGRUJan20['DatadoVoo'].value_counts()\n",
        "somaAnacGRUJan = somaAnacGRUJan.values\n",
        "somaAnacGRUFev = dadosAnacGRUFev20['DatadoVoo'].value_counts()\n",
        "somaAnacGRUFev = somaAnacGRUFev.values\n",
        "somaAnacGRUMar = dadosAnacGRUMar20['DatadoVoo'].value_counts()\n",
        "somaAnacGRUMar = somaAnacGRUMar.values\n",
        "somaAnacGRUAbr = dadosAnacGRUAbr20['DatadoVoo'].value_counts()\n",
        "somaAnacGRUAbr = somaAnacGRUAbr.values\n",
        "somaAnacGRUMai = dadosAnacGRUMai20['DatadoVoo'].value_counts()\n",
        "somaAnacGRUMai = somaAnacGRUMai.values\n",
        "somaAnacGRUJun = dadosAnacGRUJun20['DatadoVoo'].value_counts()\n",
        "somaAnacGRUJun = somaAnacGRUJun.values\n",
        "somaAnacGRUJul = dadosAnacGRUJul20['DatadoVoo'].value_counts()\n",
        "somaAnacGRUJul = somaAnacGRUJul.values\n",
        "somaAnacGRUAgo = dadosAnacGRUAgo20['DatadoVoo'].value_counts()\n",
        "somaAnacGRUAgo = somaAnacGRUAgo.values\n",
        "somaAnacGRUSet = dadosAnacGRUSet20['DatadoVoo'].value_counts()\n",
        "somaAnacGRUSet = somaAnacGRUSet.values\n",
        "somaAnacGRUOut = dadosAnacGRUOut20['DatadoVoo'].value_counts()\n",
        "somaAnacGRUOut = somaAnacGRUOut.values\n",
        "somaAnacGRUNov = dadosAnacGRUNov20['DatadoVoo'].value_counts()\n",
        "somaAnacGRUNov = somaAnacGRUNov.values\n",
        "somaAnacGRUDez = dadosAnacGRUDez20['DatadoVoo'].value_counts()\n",
        "somaAnacGRUDez = somaAnacGRUDez.values\n",
        "somaAnacGRU = [somaAnacGRUJan[0], somaAnacGRUFev[0], somaAnacGRUMar[0], somaAnacGRUAbr[0], somaAnacGRUMai[0], somaAnacGRUJun[0], somaAnacGRUJul[0], somaAnacGRUAgo[0], somaAnacGRUSet[0], somaAnacGRUOut[0], somaAnacGRUNov[0], somaAnacGRUDez[0]]\n",
        "somaAnacGRU"
      ],
      "execution_count": null,
      "outputs": [
        {
          "output_type": "execute_result",
          "data": {
            "text/plain": [
              "[26432, 23019, 18416, 3036, 3705, 4415, 6949, 9123, 10817, 11899, 14165, 16735]"
            ]
          },
          "metadata": {},
          "execution_count": 11
        }
      ]
    },
    {
      "cell_type": "code",
      "metadata": {
        "colab": {
          "base_uri": "https://localhost:8080/",
          "height": 541
        },
        "id": "Vevu-r09evFY",
        "outputId": "bf61d639-fd47-43e2-a2d4-763dca8521c5"
      },
      "source": [
        "names =   ['jan', 'fev', 'mar', 'abr', 'mai', 'jun', 'jul', 'ago', 'set', 'out', 'nov', 'dez']\n",
        "values =  [somaAnacGRU[0], somaAnacGRU[1], somaAnacGRU[2], somaAnacGRU[3], somaAnacGRU[4], somaAnacGRU[5], somaAnacGRU[6], somaAnacGRU[7], somaAnacGRU[8], somaAnacGRU[9], somaAnacGRU[10], somaAnacGRU[11]]\n",
        "\n",
        "plt.figure(figsize=(18, 8))\n",
        "\n",
        "SMALL_SIZE = 15\n",
        "MEDIUM_SIZE = 30\n",
        "BIGGER_SIZE = 40\n",
        "\n",
        "plt.rc('font', size=SMALL_SIZE)          # controls default text sizes\n",
        "plt.rc('axes', titlesize=SMALL_SIZE)     # fontsize of the axes title\n",
        "plt.rc('axes', labelsize=MEDIUM_SIZE)    # fontsize of the x and y labels\n",
        "plt.rc('xtick', labelsize=SMALL_SIZE)    # fontsize of the tick labels\n",
        "plt.rc('ytick', labelsize=SMALL_SIZE)    # fontsize of the tick labels\n",
        "plt.rc('legend', fontsize=SMALL_SIZE)    # legend fontsize\n",
        "plt.rc('figure', titlesize=BIGGER_SIZE)  # fontsize of the figure title\n",
        "\n",
        "plt.style.use('seaborn-whitegrid')\n",
        "plt.bar(names, values, color='powderblue', edgecolor='black')\n",
        "\n",
        "for i in range(len(names)):\n",
        "    plt.annotate(str(values[i]), xy=(names[i],values[i]),\n",
        "                 ha='center',va='center', xytext=(0,10), size=SMALL_SIZE-1,\n",
        "                 bbox=dict(facecolor='azure', edgecolor='aliceblue', pad=2.0), textcoords = 'offset points')\n",
        "\n",
        "plt.suptitle('Operações GRU - 2020')\n",
        "plt.axhline(y=np.mean(values[values != 0]), color='navy', linestyle='-',linewidth=3) #plot the mean without zeros\n",
        "\n",
        "plt.show()"
      ],
      "execution_count": null,
      "outputs": [
        {
          "output_type": "display_data",
          "data": {
            "image/png": "[encoded data removed]",
            "text/plain": [
              "<Figure size 1296x576 with 1 Axes>"
            ]
          },
          "metadata": {
            "needs_background": "light"
          }
        }
      ]
    },
    {
      "cell_type": "code",
      "metadata": {
        "colab": {
          "base_uri": "https://localhost:8080/"
        },
        "id": "8FyPDrmuew5o",
        "outputId": "05c5c820-3b77-42b1-946e-b7012a5027af"
      },
      "source": [
        "somaGRU2020 = [somaAnacGRU[0], somaAnacGRU[3]]\n",
        "somaGRU2020 = pd.Series(somaGRU2020)\n",
        "somaGRU2020.pct_change()\n",
        "#Maior mês e menor mês do ano de 2020"
      ],
      "execution_count": null,
      "outputs": [
        {
          "output_type": "execute_result",
          "data": {
            "text/plain": [
              "0         NaN\n",
              "1   -0.885139\n",
              "dtype: float64"
            ]
          },
          "metadata": {},
          "execution_count": 13
        }
      ]
    },
    {
      "cell_type": "code",
      "metadata": {
        "colab": {
          "base_uri": "https://localhost:8080/"
        },
        "id": "TE48582ze0PY",
        "outputId": "9c15c793-d2d1-4303-b088-b45cc0f77e80"
      },
      "source": [
        "somaGRU2020 = [somaAnacGRU[3], somaAnacGRU[4]]\n",
        "somaGRU2020 = pd.Series(somaGRU2020)\n",
        "somaGRU2020.pct_change()\n",
        "# Mês de maio e abril"
      ],
      "execution_count": null,
      "outputs": [
        {
          "output_type": "execute_result",
          "data": {
            "text/plain": [
              "0         NaN\n",
              "1    0.220356\n",
              "dtype: float64"
            ]
          },
          "metadata": {},
          "execution_count": 15
        }
      ]
    },
    {
      "cell_type": "code",
      "metadata": {
        "colab": {
          "base_uri": "https://localhost:8080/"
        },
        "id": "DIEb6_qge2Oo",
        "outputId": "759d0157-9ba6-4595-8e18-bedc9ef206af"
      },
      "source": [
        "somaGRU2020 = [somaAnacGRU[2], somaAnacGRU[3]]\n",
        "somaGRU2020 = pd.Series(somaGRU2020)\n",
        "somaGRU2020.pct_change()\n",
        "# Mês de março e abril"
      ],
      "execution_count": null,
      "outputs": [
        {
          "output_type": "execute_result",
          "data": {
            "text/plain": [
              "0         NaN\n",
              "1   -0.835143\n",
              "dtype: float64"
            ]
          },
          "metadata": {},
          "execution_count": 16
        }
      ]
    }
  ]
}