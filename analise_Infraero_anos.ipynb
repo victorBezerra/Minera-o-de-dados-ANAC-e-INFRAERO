{
  "nbformat": 4,
  "nbformat_minor": 0,
  "metadata": {
    "colab": {
      "name": "analise_Infraero_anos.ipynb",
      "provenance": []
    },
    "kernelspec": {
      "name": "python3",
      "display_name": "Python 3"
    },
    "language_info": {
      "name": "python"
    }
  },
  "cells": [
    {
      "cell_type": "code",
      "metadata": {
        "id": "fltq9G4mS9V6"
      },
      "source": [
        "import pandas as pd\n",
        "import datetime as dt\n",
        "import matplotlib as mt\n",
        "import matplotlib.pyplot as plt\n",
        "import numpy as np\n"
      ],
      "execution_count": null,
      "outputs": []
    },
    {
      "cell_type": "code",
      "metadata": {
        "colab": {
          "base_uri": "https://localhost:8080/"
        },
        "id": "5XeXtyUV86bP",
        "outputId": "6a39770f-ac3c-4fa2-b417-91b890ccce4a"
      },
      "source": [
        "pip install matplotlib"
      ],
      "execution_count": null,
      "outputs": [
        {
          "output_type": "stream",
          "name": "stdout",
          "text": [
            "Requirement already satisfied: matplotlib in /usr/local/lib/python3.7/dist-packages (3.2.2)\n",
            "Requirement already satisfied: numpy>=1.11 in /usr/local/lib/python3.7/dist-packages (from matplotlib) (1.19.5)\n",
            "Requirement already satisfied: kiwisolver>=1.0.1 in /usr/local/lib/python3.7/dist-packages (from matplotlib) (1.3.2)\n",
            "Requirement already satisfied: python-dateutil>=2.1 in /usr/local/lib/python3.7/dist-packages (from matplotlib) (2.8.2)\n",
            "Requirement already satisfied: pyparsing!=2.0.4,!=2.1.2,!=2.1.6,>=2.0.1 in /usr/local/lib/python3.7/dist-packages (from matplotlib) (3.0.6)\n",
            "Requirement already satisfied: cycler>=0.10 in /usr/local/lib/python3.7/dist-packages (from matplotlib) (0.11.0)\n",
            "Requirement already satisfied: six>=1.5 in /usr/local/lib/python3.7/dist-packages (from python-dateutil>=2.1->matplotlib) (1.15.0)\n"
          ]
        }
      ]
    },
    {
      "cell_type": "code",
      "metadata": {
        "id": "hoA7JAyzTE3F"
      },
      "source": [
        "# DADOS 2019\n",
        "dadosInfra_2019Jan = pd.read_excel('https://transparencia.infraero.gov.br/wp-content/uploads/2020/02/jan.xlsx',sheet_name=0, skiprows=4, index_col=[1])\n",
        "dadosInfra_2019Fev = pd.read_excel('https://transparencia.infraero.gov.br/wp-content/uploads/2020/02/fev.xlsx',sheet_name=0, skiprows=4, index_col=[1])\n",
        "dadosInfra_2019Mar = pd.read_excel('https://transparencia.infraero.gov.br/wp-content/uploads/2020/02/mar.xlsx',sheet_name=0, skiprows=4, index_col=[1])\n",
        "dadosInfra_2019Abr = pd.read_excel('https://transparencia.infraero.gov.br/wp-content/uploads/2020/02/abr.xlsx',sheet_name=0, skiprows=4, index_col=[1])\n",
        "dadosInfra_2019Mai = pd.read_excel('https://transparencia.infraero.gov.br/wp-content/uploads/2020/02/mai.xlsx',sheet_name=0, skiprows=4, index_col=[1])\n",
        "dadosInfra_2019Jun = pd.read_excel('https://transparencia.infraero.gov.br/wp-content/uploads/2020/02/jun.xlsx',sheet_name=0, skiprows=4, index_col=[1])\n",
        "dadosInfra_2019Jul = pd.read_excel('https://transparencia.infraero.gov.br/wp-content/uploads/2020/02/jul.xlsx',sheet_name=0, skiprows=4, index_col=[1])\n",
        "dadosInfra_2019Ago = pd.read_excel('https://transparencia.infraero.gov.br/wp-content/uploads/2020/02/ago.xlsx',sheet_name=0, skiprows=4, index_col=[1])\n",
        "dadosInfra_2019Set = pd.read_excel('https://transparencia.infraero.gov.br/wp-content/uploads/2020/02/set.xlsx',sheet_name=0, skiprows=4, index_col=[1])\n",
        "dadosInfra_2019Out = pd.read_excel('https://transparencia.infraero.gov.br/wp-content/uploads/2020/02/out.xlsx',sheet_name=0, skiprows=4, index_col=[1])\n",
        "dadosInfra_2019Nov = pd.read_excel('https://transparencia.infraero.gov.br/wp-content/uploads/2020/02/nov.xlsx',sheet_name=0, skiprows=4, index_col=[1])\n",
        "dadosInfra_2019Dez = pd.read_excel('https://transparencia.infraero.gov.br/wp-content/uploads/2020/02/dez.xlsx',sheet_name=0, skiprows=4, index_col=[1])\n",
        "dadosInfra_2019Dez_cargas = pd.read_excel('https://transparencia.infraero.gov.br/wp-content/uploads/2020/02/dez.xlsx',sheet_name=1, skiprows=4, index_col=[1])"
      ],
      "execution_count": null,
      "outputs": []
    },
    {
      "cell_type": "code",
      "metadata": {
        "colab": {
          "base_uri": "https://localhost:8080/",
          "height": 455
        },
        "id": "6MrM45I41Ytt",
        "outputId": "db0f9c98-463a-42be-b190-c96ebe729415"
      },
      "source": [
        "dadosInfra_2019Jan = pd.read_excel('https://transparencia.infraero.gov.br/wp-content/uploads/2020/02/jan.xlsx',sheet_name=0, skiprows=4, index_col=[1])\n",
        "dadosInfra_2019Jan"
      ],
      "execution_count": null,
      "outputs": [
        {
          "output_type": "execute_result",
          "data": {
            "text/html": [
              "<div>\n",
              "<style scoped>\n",
              "    .dataframe tbody tr th:only-of-type {\n",
              "        vertical-align: middle;\n",
              "    }\n",
              "\n",
              "    .dataframe tbody tr th {\n",
              "        vertical-align: top;\n",
              "    }\n",
              "\n",
              "    .dataframe thead th {\n",
              "        text-align: right;\n",
              "    }\n",
              "</style>\n",
              "<table border=\"1\" class=\"dataframe\">\n",
              "  <thead>\n",
              "    <tr style=\"text-align: right;\">\n",
              "      <th></th>\n",
              "      <th>Unnamed: 0</th>\n",
              "      <th>Pousos no Mês</th>\n",
              "      <th>Pousos no Ano</th>\n",
              "      <th>Decolagens no Mês</th>\n",
              "      <th>Decolagens no Ano</th>\n",
              "      <th>Pou + Dec. no Mês</th>\n",
              "      <th>Pou + Dec. no Ano</th>\n",
              "    </tr>\n",
              "    <tr>\n",
              "      <th>Discriminação</th>\n",
              "      <th></th>\n",
              "      <th></th>\n",
              "      <th></th>\n",
              "      <th></th>\n",
              "      <th></th>\n",
              "      <th></th>\n",
              "      <th></th>\n",
              "    </tr>\n",
              "  </thead>\n",
              "  <tbody>\n",
              "    <tr>\n",
              "      <th>INFRAERO</th>\n",
              "      <td>NaN</td>\n",
              "      <td>48296</td>\n",
              "      <td>48296</td>\n",
              "      <td>48240</td>\n",
              "      <td>48240</td>\n",
              "      <td>96536</td>\n",
              "      <td>96536</td>\n",
              "    </tr>\n",
              "    <tr>\n",
              "      <th>TRANSPORTE REGULAR</th>\n",
              "      <td>NaN</td>\n",
              "      <td>30684</td>\n",
              "      <td>30684</td>\n",
              "      <td>30797</td>\n",
              "      <td>30797</td>\n",
              "      <td>61481</td>\n",
              "      <td>61481</td>\n",
              "    </tr>\n",
              "    <tr>\n",
              "      <th>VOO DOMÉSTICO</th>\n",
              "      <td>NaN</td>\n",
              "      <td>30247</td>\n",
              "      <td>30247</td>\n",
              "      <td>30356</td>\n",
              "      <td>30356</td>\n",
              "      <td>60603</td>\n",
              "      <td>60603</td>\n",
              "    </tr>\n",
              "    <tr>\n",
              "      <th>NACIONAL</th>\n",
              "      <td>NaN</td>\n",
              "      <td>30028</td>\n",
              "      <td>30028</td>\n",
              "      <td>30146</td>\n",
              "      <td>30146</td>\n",
              "      <td>60174</td>\n",
              "      <td>60174</td>\n",
              "    </tr>\n",
              "    <tr>\n",
              "      <th>REGIONAL</th>\n",
              "      <td>NaN</td>\n",
              "      <td>219</td>\n",
              "      <td>219</td>\n",
              "      <td>210</td>\n",
              "      <td>210</td>\n",
              "      <td>429</td>\n",
              "      <td>429</td>\n",
              "    </tr>\n",
              "    <tr>\n",
              "      <th>...</th>\n",
              "      <td>...</td>\n",
              "      <td>...</td>\n",
              "      <td>...</td>\n",
              "      <td>...</td>\n",
              "      <td>...</td>\n",
              "      <td>...</td>\n",
              "      <td>...</td>\n",
              "    </tr>\n",
              "    <tr>\n",
              "      <th>REGIONAL</th>\n",
              "      <td>NaN</td>\n",
              "      <td>0</td>\n",
              "      <td>0</td>\n",
              "      <td>0</td>\n",
              "      <td>0</td>\n",
              "      <td>0</td>\n",
              "      <td>0</td>\n",
              "    </tr>\n",
              "    <tr>\n",
              "      <th>VOO INTERNACIONAL</th>\n",
              "      <td>NaN</td>\n",
              "      <td>0</td>\n",
              "      <td>0</td>\n",
              "      <td>0</td>\n",
              "      <td>0</td>\n",
              "      <td>0</td>\n",
              "      <td>0</td>\n",
              "    </tr>\n",
              "    <tr>\n",
              "      <th>TRANSPORTE NÃO REGULAR</th>\n",
              "      <td>NaN</td>\n",
              "      <td>136</td>\n",
              "      <td>136</td>\n",
              "      <td>138</td>\n",
              "      <td>138</td>\n",
              "      <td>274</td>\n",
              "      <td>274</td>\n",
              "    </tr>\n",
              "    <tr>\n",
              "      <th>VOO DOMÉSTICO</th>\n",
              "      <td>NaN</td>\n",
              "      <td>136</td>\n",
              "      <td>136</td>\n",
              "      <td>138</td>\n",
              "      <td>138</td>\n",
              "      <td>274</td>\n",
              "      <td>274</td>\n",
              "    </tr>\n",
              "    <tr>\n",
              "      <th>VOO INTERNACIONAL</th>\n",
              "      <td>NaN</td>\n",
              "      <td>0</td>\n",
              "      <td>0</td>\n",
              "      <td>0</td>\n",
              "      <td>0</td>\n",
              "      <td>0</td>\n",
              "      <td>0</td>\n",
              "    </tr>\n",
              "  </tbody>\n",
              "</table>\n",
              "<p>450 rows × 7 columns</p>\n",
              "</div>"
            ],
            "text/plain": [
              "                        Unnamed: 0  ...  Pou + Dec. no Ano \n",
              "Discriminação                       ...                    \n",
              "INFRAERO                       NaN  ...               96536\n",
              "TRANSPORTE REGULAR             NaN  ...               61481\n",
              "VOO DOMÉSTICO                  NaN  ...               60603\n",
              "NACIONAL                       NaN  ...               60174\n",
              "REGIONAL                       NaN  ...                 429\n",
              "...                            ...  ...                 ...\n",
              "REGIONAL                       NaN  ...                   0\n",
              "VOO INTERNACIONAL              NaN  ...                   0\n",
              "TRANSPORTE NÃO REGULAR         NaN  ...                 274\n",
              "VOO DOMÉSTICO                  NaN  ...                 274\n",
              "VOO INTERNACIONAL              NaN  ...                   0\n",
              "\n",
              "[450 rows x 7 columns]"
            ]
          },
          "metadata": {},
          "execution_count": 110
        }
      ]
    },
    {
      "cell_type": "code",
      "metadata": {
        "id": "lWJkAO1WTHPT"
      },
      "source": [
        "# DADOS 2020\n",
        "dadosInfra_2020_Jan = pd.read_excel('https://transparencia.infraero.gov.br/wp-content/uploads/2021/02/jan.xlsx', sheet_name=0, skiprows=4, index_col=[1])\n",
        "dadosInfra_2020_Fev = pd.read_excel('https://transparencia.infraero.gov.br/wp-content/uploads/2021/02/fev.xlsx', sheet_name=0, skiprows=4, index_col=[1])\n",
        "dadosInfra_2020_Mar = pd.read_excel('https://transparencia.infraero.gov.br/wp-content/uploads/2021/02/mar.xlsx', sheet_name=0, skiprows=4, index_col=[1])\n",
        "dadosInfra_2020_Abr = pd.read_excel('https://transparencia.infraero.gov.br/wp-content/uploads/2021/02/abr.xlsx', sheet_name=0, skiprows=4, index_col=[1])\n",
        "dadosInfra_2020_Mai = pd.read_excel('https://transparencia.infraero.gov.br/wp-content/uploads/2021/02/mai.xlsx', sheet_name=0, skiprows=4, index_col=[1])\n",
        "dadosInfra_2020_Jun = pd.read_excel('https://transparencia.infraero.gov.br/wp-content/uploads/2021/02/jun.xlsx', sheet_name=0, skiprows=4, index_col=[1])\n",
        "dadosInfra_2020_Jul = pd.read_excel('https://transparencia.infraero.gov.br/wp-content/uploads/2021/02/jul.xlsx', sheet_name=0, skiprows=4, index_col=[1])\n",
        "dadosInfra_2020_Ago = pd.read_excel('https://transparencia.infraero.gov.br/wp-content/uploads/2021/02/ago.xlsx', sheet_name=0, skiprows=4, index_col=[1])\n",
        "dadosInfra_2020_Set = pd.read_excel('https://transparencia.infraero.gov.br/wp-content/uploads/2021/02/set.xlsx', sheet_name=0, skiprows=4, index_col=[1])\n",
        "dadosInfra_2020_Out = pd.read_excel('https://transparencia.infraero.gov.br/wp-content/uploads/2021/02/out.xlsx', sheet_name=0, skiprows=4, index_col=[1])\n",
        "dadosInfra_2020_Nov = pd.read_excel('https://transparencia.infraero.gov.br/wp-content/uploads/2021/02/nov.xlsx', sheet_name=0, skiprows=4, index_col=[1])\n",
        "dadosInfra_2020_Dez = pd.read_excel('https://transparencia.infraero.gov.br/wp-content/uploads/2021/02/dez.xlsx', sheet_name=0, skiprows=4, index_col=[1])"
      ],
      "execution_count": null,
      "outputs": []
    },
    {
      "cell_type": "code",
      "metadata": {
        "id": "40xqU4MWTLIT"
      },
      "source": [
        "# DADOS 2021\n",
        "dadosInfra_2021Jan = pd.read_excel('https://transparencia.infraero.gov.br/wp-content/uploads/2021/02/jan-2.xlsx',sheet_name=0, skiprows=4, index_col=[1])\n",
        "dadosInfra_2021Fev = pd.read_excel('https://transparencia.infraero.gov.br/wp-content/uploads/2021/03/fev.xlsx',sheet_name=0, skiprows=4, index_col=[1])\n",
        "dadosInfra_2021Mar = pd.read_excel('https://transparencia.infraero.gov.br/wp-content/uploads/2021/04/mar.xlsx',sheet_name=0, skiprows=4, index_col=[1])\n",
        "dadosInfra_2021Abr = pd.read_excel('https://transparencia.infraero.gov.br/wp-content/uploads/2021/05/abr.xlsx',sheet_name=0, skiprows=4, index_col=[1])\n",
        "dadosInfra_2021Mai = pd.read_excel('https://transparencia.infraero.gov.br/wp-content/uploads/2021/06/mai.xlsx',sheet_name=0, skiprows=4, index_col=[1])\n",
        "dadosInfra_2021Jun = pd.read_excel('https://transparencia.infraero.gov.br/wp-content/uploads/2021/07/jun.xlsx',sheet_name=0, skiprows=4, index_col=[1])\n",
        "dadosInfra_2021Jul = pd.read_excel('https://transparencia.infraero.gov.br/wp-content/uploads/2021/08/jul.xlsx',sheet_name=0, skiprows=4, index_col=[1])\n",
        "dadosInfra_2021Ago = pd.read_excel('https://transparencia.infraero.gov.br/wp-content/uploads/2021/09/ago.xlsx',sheet_name=0, skiprows=4, index_col=[1])"
      ],
      "execution_count": null,
      "outputs": []
    },
    {
      "cell_type": "code",
      "metadata": {
        "id": "bWOsdL1DTNcM"
      },
      "source": [
        "colunasSelecionados = ['Pou + Dec. no Mês']\n",
        "\n",
        "dadosInfra_2019Jan = dadosInfra_2019Jan.filter(items=colunasSelecionados)\n",
        "dadosInfra_2019Jan = dadosInfra_2019Jan.iloc[0:1]\n",
        "somaInfraJan = dadosInfra_2019Jan['Pou + Dec. no Mês'].values\n",
        "somaInfraJan = somaInfraJan[0]\n",
        "dadosInfra_2019Fev = dadosInfra_2019Fev.filter(items=colunasSelecionados)\n",
        "dadosInfra_2019Fev = dadosInfra_2019Fev.iloc[0:1]\n",
        "somaInfraFev = dadosInfra_2019Fev['Pou + Dec. no Mês'].values\n",
        "somaInfraFev = somaInfraFev[0]\n",
        "dadosInfra_2019Mar = dadosInfra_2019Mar.filter(items=colunasSelecionados)\n",
        "dadosInfra_2019Mar = dadosInfra_2019Mar.iloc[0:1]\n",
        "somaInfraMar = dadosInfra_2019Mar['Pou + Dec. no Mês'].values\n",
        "somaInfraMar = somaInfraMar[0]\n",
        "dadosInfra_2019Abr = dadosInfra_2019Abr.filter(items=colunasSelecionados)\n",
        "dadosInfra_2019Abr = dadosInfra_2019Abr.iloc[0:1]\n",
        "somaInfraAbr = dadosInfra_2019Abr['Pou + Dec. no Mês'].values\n",
        "somaInfraAbr = somaInfraAbr[0]\n",
        "dadosInfra_2019Mai = dadosInfra_2019Mai.filter(items=colunasSelecionados)\n",
        "dadosInfra_2019Mai = dadosInfra_2019Mai.iloc[0:1]\n",
        "somaInfraMai = dadosInfra_2019Mai['Pou + Dec. no Mês'].values\n",
        "somaInfraMai = somaInfraMai[0]\n",
        "dadosInfra_2019Jun = dadosInfra_2019Jun.filter(items=colunasSelecionados)\n",
        "dadosInfra_2019Jun = dadosInfra_2019Jun.iloc[0:1]\n",
        "somaInfraJun = dadosInfra_2019Jun['Pou + Dec. no Mês'].values\n",
        "somaInfraJun = somaInfraJun[0]\n",
        "dadosInfra_2019Jul = dadosInfra_2019Jul.filter(items=colunasSelecionados)\n",
        "dadosInfra_2019Jul =dadosInfra_2019Jul.iloc[0:1]\n",
        "somaInfraJul = dadosInfra_2019Jul['Pou + Dec. no Mês'].values\n",
        "somaInfraJul = somaInfraJul[0]\n",
        "dadosInfra_2019Ago = dadosInfra_2019Ago.filter(items=colunasSelecionados)\n",
        "dadosInfra_2019Ago = dadosInfra_2019Ago.iloc[0:1]\n",
        "somaInfraAgo = dadosInfra_2019Ago['Pou + Dec. no Mês'].values\n",
        "somaInfraAgo = somaInfraAgo[0]\n",
        "dadosInfra_2019Set = dadosInfra_2019Set.filter(items=colunasSelecionados)\n",
        "dadosInfra_2019Set = dadosInfra_2019Set.iloc[0:1]\n",
        "somaInfraSet = dadosInfra_2019Set['Pou + Dec. no Mês'].values\n",
        "somaInfraSet = somaInfraSet[0]\n",
        "dadosInfra_2019Out = dadosInfra_2019Out.filter(items=colunasSelecionados)\n",
        "dadosInfra_2019Out = dadosInfra_2019Out.iloc[0:1]\n",
        "somaInfraOut = dadosInfra_2019Out['Pou + Dec. no Mês'].values\n",
        "somaInfraOut = somaInfraOut[0]\n",
        "dadosInfra_2019Nov = dadosInfra_2019Nov.filter(items=colunasSelecionados)\n",
        "dadosInfra_2019Nov = dadosInfra_2019Nov.iloc[0:1]\n",
        "somaInfraNov = dadosInfra_2019Nov['Pou + Dec. no Mês'].values\n",
        "somaInfraNov = somaInfraNov[0]\n",
        "dadosInfra_2019Dez = dadosInfra_2019Dez.filter(items=colunasSelecionados)\n",
        "dadosInfra_2019Dez = dadosInfra_2019Dez.iloc[0:1]\n",
        "somaInfraDez = dadosInfra_2019Dez['Pou + Dec. no Mês'].values\n",
        "somaInfraDez = somaInfraDez[0]\n",
        "somaInfra2019 = [somaInfraJan, somaInfraFev, somaInfraMar, somaInfraAbr, somaInfraMai, somaInfraJun, somaInfraJul, somaInfraAgo, somaInfraSet, somaInfraOut, somaInfraNov, somaInfraDez]"
      ],
      "execution_count": null,
      "outputs": []
    },
    {
      "cell_type": "code",
      "metadata": {
        "colab": {
          "base_uri": "https://localhost:8080/",
          "height": 541
        },
        "id": "itJ4eWRfTT-m",
        "outputId": "5595946d-4596-43f3-c531-820932e10592"
      },
      "source": [
        "names =   ['jan', 'fev', 'mar', 'abr', 'mai', 'jun', 'jul', 'ago', 'set', 'out', 'nov', 'dez']\n",
        "values =  [somaInfra2019[0], somaInfra2019[1], somaInfra2019[2], somaInfra2019[3], somaInfra2019[4], somaInfra2019[5], somaInfra2019[6], somaInfra2019[7], somaInfra2019[8], somaInfra2019[9], somaInfra2019[10], somaInfra2019[11]]\n",
        "\n",
        "plt.figure(figsize=(18, 8))\n",
        "\n",
        "SMALL_SIZE = 15\n",
        "MEDIUM_SIZE = 30\n",
        "BIGGER_SIZE = 40\n",
        "\n",
        "\n",
        "plt.rc('font', size=SMALL_SIZE)          # controls default text sizes\n",
        "plt.rc('axes', titlesize=SMALL_SIZE)     # fontsize of the axes title\n",
        "plt.rc('axes', labelsize=MEDIUM_SIZE)    # fontsize of the x and y labels\n",
        "plt.rc('xtick', labelsize=SMALL_SIZE)    # fontsize of the tick labels\n",
        "plt.rc('ytick', labelsize=SMALL_SIZE)    # fontsize of the tick labels\n",
        "plt.rc('legend', fontsize=SMALL_SIZE)    # legend fontsize\n",
        "plt.rc('figure', titlesize=BIGGER_SIZE)  # fontsize of the figure title\n",
        "\n",
        "plt.style.use('seaborn-whitegrid')\n",
        "plt.bar(names, values, color='powderblue', edgecolor='black')\n",
        "\n",
        "for i in range(len(names)):\n",
        "    plt.annotate(str(values[i]), xy=(names[i],values[i]),\n",
        "                 ha='center',va='center', xytext=(0,10), size=SMALL_SIZE-1,\n",
        "                 bbox=dict(facecolor='azure', edgecolor='aliceblue', pad=2.0), textcoords = 'offset points')\n",
        "\n",
        "plt.suptitle('Operações INFRAERO - 2019')\n",
        "plt.axhline(y=np.mean(values[values != 0]), color='navy', linestyle='-',linewidth=3) #plot the mean without zeros\n",
        "\n",
        "plt.show()\n"
      ],
      "execution_count": null,
      "outputs": [
        {
          "output_type": "display_data",
          "data": {
            "image/png": "[encoded data removed]",
            "text/plain": [
              "<Figure size 1296x576 with 1 Axes>"
            ]
          },
          "metadata": {}
        }
      ]
    },
    {
      "cell_type": "code",
      "metadata": {
        "colab": {
          "base_uri": "https://localhost:8080/"
        },
        "id": "LIIYXKwhTUc7",
        "outputId": "fd43e10b-4a86-4fe1-fa04-d568844bc944"
      },
      "source": [
        "# Diferença em percentual entre o maior e menor mês de 2019\n",
        "difMesInfra2019 = [somaInfraFev, somaInfraOut]\n",
        "difMesInfra2019 = pd.Series(difMesInfra2019)\n",
        "difMesInfra2019.pct_change()"
      ],
      "execution_count": null,
      "outputs": [
        {
          "output_type": "execute_result",
          "data": {
            "text/plain": [
              "0         NaN\n",
              "1    0.144625\n",
              "dtype: float64"
            ]
          },
          "metadata": {},
          "execution_count": 115
        }
      ]
    },
    {
      "cell_type": "code",
      "metadata": {
        "id": "wWzfwdeGTdj8"
      },
      "source": [
        "colunasSelecionados = ['Pou + Dec. no Mês']\n",
        "dadosInfra_2020_Jan = dadosInfra_2020_Jan.filter(items=colunasSelecionados)\n",
        "dadosInfra_2020_Jan = dadosInfra_2020_Jan.iloc[0:1]\n",
        "somaInfraJan = dadosInfra_2020_Jan['Pou + Dec. no Mês'].values\n",
        "somaInfraJan = somaInfraJan[0]\n",
        "dadosInfra_2020_Fev = dadosInfra_2020_Fev.filter(items=colunasSelecionados)\n",
        "dadosInfra_2020_Fev = dadosInfra_2020_Fev.iloc[0:1]\n",
        "somaInfraFev = dadosInfra_2020_Fev['Pou + Dec. no Mês'].values\n",
        "somaInfraFev = somaInfraFev[0]\n",
        "dadosInfra_2020_Mar = dadosInfra_2020_Mar.filter(items=colunasSelecionados)\n",
        "dadosInfra_2020_Mar = dadosInfra_2020_Mar.iloc[0:1]\n",
        "somaInfraMar = dadosInfra_2020_Mar['Pou + Dec. no Mês'].values\n",
        "somaInfraMar = somaInfraMar[0]\n",
        "dadosInfra_2020_Abr = dadosInfra_2020_Abr.filter(items=colunasSelecionados)\n",
        "dadosInfra_2020_Abr = dadosInfra_2020_Abr.iloc[0:1]\n",
        "somaInfraAbr = dadosInfra_2020_Abr['Pou + Dec. no Mês'].values\n",
        "somaInfraAbr = somaInfraAbr[0]\n",
        "dadosInfra_2020_Mai = dadosInfra_2020_Mai.filter(items=colunasSelecionados)\n",
        "dadosInfra_2020_Mai = dadosInfra_2020_Mai.iloc[0:1]\n",
        "somaInfraMai = dadosInfra_2020_Mai['Pou + Dec. no Mês'].values\n",
        "somaInfraMai = somaInfraMai[0]\n",
        "dadosInfra_2020_Jun = dadosInfra_2020_Jun.filter(items=colunasSelecionados)\n",
        "dadosInfra_2020_Jun = dadosInfra_2020_Jun.iloc[0:1]\n",
        "somaInfraJun = dadosInfra_2020_Jun['Pou + Dec. no Mês'].values\n",
        "somaInfraJun = somaInfraJun[0]\n",
        "dadosInfra_2020_Jul = dadosInfra_2020_Jul.filter(items=colunasSelecionados)\n",
        "dadosInfra_2020_Jul =dadosInfra_2020_Jul.iloc[0:1]\n",
        "somaInfraJul = dadosInfra_2020_Jul['Pou + Dec. no Mês'].values\n",
        "somaInfraJul = somaInfraJul[0]\n",
        "dadosInfra_2020_Ago = dadosInfra_2020_Ago.filter(items=colunasSelecionados)\n",
        "dadosInfra_2020_Ago = dadosInfra_2020_Ago.iloc[0:1]\n",
        "somaInfraAgo = dadosInfra_2020_Ago['Pou + Dec. no Mês'].values\n",
        "somaInfraAgo = somaInfraAgo[0]\n",
        "dadosInfra_2020_Set = dadosInfra_2020_Set.filter(items=colunasSelecionados)\n",
        "dadosInfra_2020_Set = dadosInfra_2020_Set.iloc[0:1]\n",
        "somaInfraSet = dadosInfra_2020_Set['Pou + Dec. no Mês'].values\n",
        "somaInfraSet = somaInfraSet[0]\n",
        "dadosInfra_2020_Out = dadosInfra_2020_Out.filter(items=colunasSelecionados)\n",
        "dadosInfra_2020_Out = dadosInfra_2020_Out.iloc[0:1]\n",
        "somaInfraOut = dadosInfra_2020_Out['Pou + Dec. no Mês'].values\n",
        "somaInfraOut = somaInfraOut[0]\n",
        "dadosInfra_2020_Nov = dadosInfra_2020_Nov.filter(items=colunasSelecionados)\n",
        "dadosInfra_2020_Nov = dadosInfra_2020_Nov.iloc[0:1]\n",
        "somaInfraNov = dadosInfra_2020_Nov['Pou + Dec. no Mês'].values\n",
        "somaInfraNov = somaInfraNov[0]\n",
        "dadosInfra_2020_Dez = dadosInfra_2020_Dez.filter(items=colunasSelecionados)\n",
        "dadosInfra_2020_Dez = dadosInfra_2020_Dez.iloc[0:1]\n",
        "somaInfraDez = dadosInfra_2020_Dez['Pou + Dec. no Mês'].values\n",
        "somaInfraDez = somaInfraDez[0]\n",
        "somaInfra2020 = [somaInfraJan, somaInfraFev, somaInfraMar, somaInfraAbr, somaInfraMai, somaInfraJun, somaInfraJul, somaInfraAgo, somaInfraSet, somaInfraOut, somaInfraNov, somaInfraDez]"
      ],
      "execution_count": null,
      "outputs": []
    },
    {
      "cell_type": "code",
      "metadata": {
        "colab": {
          "base_uri": "https://localhost:8080/",
          "height": 541
        },
        "id": "ngXyLGt6Tjo0",
        "outputId": "12fc1b4f-72e2-457b-a3b2-15567d5fc561"
      },
      "source": [
        "names =   ['jan', 'fev', 'mar', 'abr', 'mai', 'jun', 'jul', 'ago', 'set', 'out', 'nov', 'dez']\n",
        "values =  [somaInfra2020[0], somaInfra2020[1], somaInfra2020[2], somaInfra2020[3], somaInfra2020[4], somaInfra2020[5], somaInfra2020[6], somaInfra2020[7], somaInfra2020[8], somaInfra2020[9], somaInfra2020[10], somaInfra2020[11]]\n",
        "\n",
        "plt.figure(figsize=(18, 8))\n",
        "\n",
        "SMALL_SIZE = 15\n",
        "MEDIUM_SIZE = 30\n",
        "BIGGER_SIZE = 40\n",
        "\n",
        "plt.rc('font', size=SMALL_SIZE)          # controls default text sizes\n",
        "plt.rc('axes', titlesize=SMALL_SIZE)     # fontsize of the axes title\n",
        "plt.rc('axes', labelsize=MEDIUM_SIZE)    # fontsize of the x and y labels\n",
        "plt.rc('xtick', labelsize=SMALL_SIZE)    # fontsize of the tick labels\n",
        "plt.rc('ytick', labelsize=SMALL_SIZE)    # fontsize of the tick labels\n",
        "plt.rc('legend', fontsize=SMALL_SIZE)    # legend fontsize\n",
        "plt.rc('figure', titlesize=BIGGER_SIZE)  # fontsize of the figure title\n",
        "\n",
        "plt.style.use('seaborn-whitegrid')\n",
        "plt.bar(names, values, color='powderblue', edgecolor='black')\n",
        "\n",
        "for i in range(len(names)):\n",
        "    plt.annotate(str(values[i]), xy=(names[i],values[i]),\n",
        "                 ha='center',va='center', xytext=(0,10), size=SMALL_SIZE-1,\n",
        "                 bbox=dict(facecolor='azure', edgecolor='aliceblue', pad=2.0), textcoords = 'offset points')\n",
        "\n",
        "plt.suptitle('Operações INFRAERO - 2020')\n",
        "plt.axhline(y=np.mean(values[values != 0]), color='navy', linestyle='-',linewidth=3) #plot the mean without zeros\n",
        "\n",
        "plt.show()"
      ],
      "execution_count": null,
      "outputs": [
        {
          "output_type": "display_data",
          "data": {
            "image/png": "[encoded data removed]",
            "text/plain": [
              "<Figure size 1296x576 with 1 Axes>"
            ]
          },
          "metadata": {}
        }
      ]
    },
    {
      "cell_type": "code",
      "metadata": {
        "colab": {
          "base_uri": "https://localhost:8080/"
        },
        "id": "B0P0ok7-Tl-j",
        "outputId": "83d93de0-2665-40fd-aea7-42be5ed1bd4f"
      },
      "source": [
        "difMesInfra2020 = [somaInfraJan, somaInfraAbr]\n",
        "difMesInfra2020 = pd.Series(difMesInfra2020)\n",
        "difMesInfra2020.pct_change()\n",
        "# Maior mês e menor mês do ano de 2020 em percentual"
      ],
      "execution_count": null,
      "outputs": [
        {
          "output_type": "execute_result",
          "data": {
            "text/plain": [
              "0         NaN\n",
              "1   -0.719091\n",
              "dtype: float64"
            ]
          },
          "metadata": {},
          "execution_count": 118
        }
      ]
    },
    {
      "cell_type": "code",
      "metadata": {
        "colab": {
          "base_uri": "https://localhost:8080/"
        },
        "id": "w5jVogz2Tsz0",
        "outputId": "c4ccc634-11a8-44e6-a919-3addc8241d2d"
      },
      "source": [
        "difMesInfra2020 = [somaInfraAbr, somaInfraMai]\n",
        "difMesInfra2020 = pd.Series(difMesInfra2020)\n",
        "difMesInfra2020.pct_change()\n",
        "# Mês de maio e abril 2020 em percentual"
      ],
      "execution_count": null,
      "outputs": [
        {
          "output_type": "execute_result",
          "data": {
            "text/plain": [
              "0         NaN\n",
              "1    0.351569\n",
              "dtype: float64"
            ]
          },
          "metadata": {},
          "execution_count": 119
        }
      ]
    },
    {
      "cell_type": "code",
      "metadata": {
        "colab": {
          "base_uri": "https://localhost:8080/"
        },
        "id": "Q01uRDDeTumD",
        "outputId": "1d30daf9-81bd-4881-beec-b4606a07ab68"
      },
      "source": [
        "# DIFERENÇA PICO 2019 E VALE 2020 Infraero\n",
        "diffInfra2020 = [somaInfraAbr, 109235]\n",
        "diffInfra2020 = pd.Series(diffInfra2020)\n",
        "diffInfra2020.diff()"
      ],
      "execution_count": null,
      "outputs": [
        {
          "output_type": "execute_result",
          "data": {
            "text/plain": [
              "0        NaN\n",
              "1    85837.0\n",
              "dtype: float64"
            ]
          },
          "metadata": {},
          "execution_count": 120
        }
      ]
    },
    {
      "cell_type": "code",
      "metadata": {
        "id": "RBBIWKOGTyeT"
      },
      "source": [
        "colunasSelecionados = ['Pou + Dec. no Mês']\n",
        "dadosInfra_2021Jan = dadosInfra_2021Jan.filter(items=colunasSelecionados)\n",
        "dadosInfra_2021Jan = dadosInfra_2021Jan.iloc[0:1]\n",
        "somaInfraJan = dadosInfra_2021Jan['Pou + Dec. no Mês'].values\n",
        "somaInfraJan = somaInfraJan[0]\n",
        "dadosInfra_2021Fev = dadosInfra_2021Fev.filter(items=colunasSelecionados)\n",
        "dadosInfra_2021Fev = dadosInfra_2021Fev.iloc[0:1]\n",
        "somaInfraFev = dadosInfra_2021Fev['Pou + Dec. no Mês'].values\n",
        "somaInfraFev = somaInfraFev[0]\n",
        "dadosInfra_2021Mar = dadosInfra_2021Mar.filter(items=colunasSelecionados)\n",
        "dadosInfra_2021Mar = dadosInfra_2021Mar.iloc[0:1]\n",
        "somaInfraMar = dadosInfra_2021Mar['Pou + Dec. no Mês'].values\n",
        "somaInfraMar = somaInfraMar[0]\n",
        "dadosInfra_2021Abr = dadosInfra_2021Abr.filter(items=colunasSelecionados)\n",
        "dadosInfra_2021Abr = dadosInfra_2021Abr.iloc[0:1]\n",
        "somaInfraAbr = dadosInfra_2021Abr['Pou + Dec. no Mês'].values\n",
        "somaInfraAbr = somaInfraAbr[0]\n",
        "dadosInfra_2021Mai = dadosInfra_2021Mai.filter(items=colunasSelecionados)\n",
        "dadosInfra_2021Mai = dadosInfra_2021Mai.iloc[0:1]\n",
        "somaInfraMai = dadosInfra_2021Mai['Pou + Dec. no Mês'].values\n",
        "somaInfraMai = somaInfraMai[0]\n",
        "dadosInfra_2021Jun = dadosInfra_2021Jun.filter(items=colunasSelecionados)\n",
        "dadosInfra_2021Jun = dadosInfra_2021Jun.iloc[0:1]\n",
        "somaInfraJun = dadosInfra_2021Jun['Pou + Dec. no Mês'].values\n",
        "somaInfraJun = somaInfraJun[0]\n",
        "dadosInfra_2021Jul = dadosInfra_2021Jul.filter(items=colunasSelecionados)\n",
        "dadosInfra_2021Jul = dadosInfra_2021Jul.iloc[0:1]\n",
        "somaInfraJul = dadosInfra_2021Jul['Pou + Dec. no Mês'].values\n",
        "somaInfraJul = somaInfraJul[0]\n",
        "dadosInfra_2021Ago = dadosInfra_2021Ago.filter(items=colunasSelecionados)\n",
        "dadosInfra_2021Ago = dadosInfra_2021Ago.iloc[0:1]\n",
        "somaInfraAgo = dadosInfra_2021Ago['Pou + Dec. no Mês'].values\n",
        "somaInfraAgo = somaInfraAgo[0]\n",
        "somaInfra2021 = [somaInfraJan, somaInfraFev, somaInfraMar, somaInfraAbr, somaInfraMai, somaInfraJun, somaInfraJul, somaInfraAgo]"
      ],
      "execution_count": null,
      "outputs": []
    },
    {
      "cell_type": "code",
      "metadata": {
        "colab": {
          "base_uri": "https://localhost:8080/",
          "height": 541
        },
        "id": "8TEN_dTcT1fl",
        "outputId": "6c96af9e-71d9-49d0-cf06-51ea33a50b26"
      },
      "source": [
        "names =   ['jan', 'fev', 'mar', 'abr', 'mai', 'jun', 'jul', 'ago']\n",
        "values =  [somaInfra2021[0], somaInfra2021[1], somaInfra2021[2], somaInfra2021[3], somaInfra2021[4], somaInfra2021[5], somaInfra2021[6], somaInfra2021[7]]\n",
        "\n",
        "plt.figure(figsize=(18, 8))\n",
        "\n",
        "SMALL_SIZE = 15\n",
        "MEDIUM_SIZE = 30\n",
        "BIGGER_SIZE = 40\n",
        "\n",
        "\n",
        "plt.rc('font', size=SMALL_SIZE)          # controls default text sizes\n",
        "plt.rc('axes', titlesize=SMALL_SIZE)     # fontsize of the axes title\n",
        "plt.rc('axes', labelsize=MEDIUM_SIZE)    # fontsize of the x and y labels\n",
        "plt.rc('xtick', labelsize=SMALL_SIZE)    # fontsize of the tick labels\n",
        "plt.rc('ytick', labelsize=SMALL_SIZE)    # fontsize of the tick labels\n",
        "plt.rc('legend', fontsize=SMALL_SIZE)    # legend fontsize\n",
        "plt.rc('figure', titlesize=BIGGER_SIZE)  # fontsize of the figure title\n",
        "\n",
        "plt.style.use('seaborn-whitegrid')\n",
        "plt.bar(names, values, color='powderblue', edgecolor='black')\n",
        "\n",
        "for i in range(len(names)):\n",
        "    plt.annotate(str(values[i]), xy=(names[i],values[i]),\n",
        "                 ha='center',va='center', xytext=(0,10), size=SMALL_SIZE-1,\n",
        "                 bbox=dict(facecolor='azure', edgecolor='aliceblue', pad=2.0), textcoords = 'offset points')\n",
        "\n",
        "plt.suptitle('Operações INFRAERO - 2021')\n",
        "plt.axhline(y=np.mean(values[values != 0]), color='navy', linestyle='-',linewidth=3) #plot the mean without zeros\n",
        "\n",
        "plt.show()\n"
      ],
      "execution_count": null,
      "outputs": [
        {
          "output_type": "display_data",
          "data": {
            "image/png": "[encoded data removed]",
            "text/plain": [
              "<Figure size 1296x576 with 1 Axes>"
            ]
          },
          "metadata": {}
        }
      ]
    },
    {
      "cell_type": "code",
      "metadata": {
        "colab": {
          "base_uri": "https://localhost:8080/",
          "height": 320
        },
        "id": "p0wODzIP4sKc",
        "outputId": "bd6a6c3c-85e2-4848-dd99-a5ad5031a060"
      },
      "source": [
        "labels = ['jan', 'fev', 'mar', 'abr', 'mai', 'jun', 'jul', 'ago', 'set', 'out', 'nov', 'dez']\n",
        "infra2019 = [somaInfra2019[0], somaInfra2019[1], somaInfra2019[2], somaInfra2019[3], somaInfra2019[4], somaInfra2019[5], somaInfra2019[6], somaInfra2019[7], somaInfra2019[8], somaInfra2019[9], somaInfra2019[10], somaInfra2019[11]]\n",
        "infra2020 = [somaInfra2020[0], somaInfra2020[1], somaInfra2020[2], somaInfra2020[3], somaInfra2020[4], somaInfra2020[5], somaInfra2020[6], somaInfra2020[7], somaInfra2020[8], somaInfra2020[9], somaInfra2020[10], somaInfra2020[11]]\n",
        "infra2021 = [somaInfra2021[0], somaInfra2021[1], somaInfra2021[2], somaInfra2021[3], somaInfra2021[4], somaInfra2021[5], somaInfra2021[6], somaInfra2021[7], 0, 0, 0, 0]\n",
        "\n",
        "x = np.arange(len(labels))\n",
        "width = 0.3\n",
        "\n",
        "fig, ax = plt.subplots()\n",
        "\n",
        "rects1 = ax.bar(x - width, infra2019, width, label='2019')\n",
        "rects2 = ax.bar(x, infra2020, width, label='2020')\n",
        "rects3 = ax.bar(x + width, infra2021, width, label='2021')\n",
        "\n",
        "ax.set_xticks(x)\n",
        "ax.set_xticklabels(labels)\n",
        "ax.legend()\n",
        "\n",
        "\n",
        "fig.set_figheight(5)\n",
        "fig.set_figwidth(20)\n",
        "plt.show()\n"
      ],
      "execution_count": null,
      "outputs": [
        {
          "output_type": "display_data",
          "data": {
            "image/png": "[encoded data removed]",
            "text/plain": [
              "<Figure size 1440x360 with 1 Axes>"
            ]
          },
          "metadata": {}
        }
      ]
    },
    {
      "cell_type": "code",
      "metadata": {
        "colab": {
          "base_uri": "https://localhost:8080/",
          "height": 324
        },
        "id": "2FRwzUgbR4ST",
        "outputId": "385bbd5e-84a2-4598-b364-de146d4c5e2b"
      },
      "source": [
        "labels = ['jan', 'fev', 'mar', 'abr', 'mai', 'jun', 'jul', 'ago', 'set', 'out', 'nov', 'dez']\n",
        "infra2020 = [somaInfra2020[0], somaInfra2020[1], somaInfra2020[2], somaInfra2020[3], somaInfra2020[4], somaInfra2020[5], somaInfra2020[6], somaInfra2020[7], somaInfra2020[8], somaInfra2020[9], somaInfra2020[10], somaInfra2020[11]]\n",
        "infra2021 = [somaInfra2021[0], somaInfra2021[1], somaInfra2021[2], somaInfra2021[3], somaInfra2021[4], somaInfra2021[5], somaInfra2021[6], somaInfra2021[7], 0, 0, 0, 0]\n",
        "\n",
        "x = np.arange(len(labels))\n",
        "width = 0.3\n",
        "\n",
        "fig, ax = plt.subplots()\n",
        "\n",
        "rects2 = ax.bar(x, infra2020, width, label='2020')\n",
        "rects3 = ax.bar(x + width, infra2021, width, label='2021')\n",
        "\n",
        "ax.set_xticks(x)\n",
        "ax.set_xticklabels(labels)\n",
        "ax.legend()\n",
        "\n",
        "autolabel(rects2)\n",
        "autolabel(rects3)\n",
        "\n",
        "fig.set_figheight(5)\n",
        "fig.set_figwidth(20)\n",
        "plt.show()"
      ],
      "execution_count": null,
      "outputs": [
        {
          "output_type": "display_data",
          "data": {
            "image/png": "[encoded data removed]",
            "text/plain": [
              "<Figure size 1440x360 with 1 Axes>"
            ]
          },
          "metadata": {}
        }
      ]
    },
    {
      "cell_type": "code",
      "metadata": {
        "colab": {
          "base_uri": "https://localhost:8080/"
        },
        "id": "HWSZrYwzT3rc",
        "outputId": "6562f214-0392-4481-fd72-032f72a6e00f"
      },
      "source": [
        "#DIFERENÇA ENTRE MAIOR E MENOR MÊS DE 2021 percentual\n",
        "difMesInfra2021 = [somaInfraAbr, somaInfraAgo]\n",
        "difMesInfra2021 = pd.Series(difMesInfra2021)\n",
        "difMesInfra2021.pct_change()"
      ],
      "execution_count": null,
      "outputs": [
        {
          "output_type": "execute_result",
          "data": {
            "text/plain": [
              "0        NaN\n",
              "1    0.47715\n",
              "dtype: float64"
            ]
          },
          "metadata": {},
          "execution_count": 125
        }
      ]
    },
    {
      "cell_type": "code",
      "metadata": {
        "colab": {
          "base_uri": "https://localhost:8080/"
        },
        "id": "LzECg7aOUAFE",
        "outputId": "45c0d520-b9cf-4d80-ac98-10c43dd4ae2c"
      },
      "source": [
        "# DIFERENÇA PICO 2019 E VALE 2021 Infraero\n",
        "diffInfra2021 = [somaInfraAbr, 109235]\n",
        "diffInfra2021 = pd.Series(diffInfra2021)\n",
        "diffInfra2021.diff()"
      ],
      "execution_count": null,
      "outputs": [
        {
          "output_type": "execute_result",
          "data": {
            "text/plain": [
              "0        NaN\n",
              "1    59913.0\n",
              "dtype: float64"
            ]
          },
          "metadata": {},
          "execution_count": 126
        }
      ]
    },
    {
      "cell_type": "code",
      "metadata": {
        "colab": {
          "base_uri": "https://localhost:8080/"
        },
        "id": "9IJYtkVWVkeE",
        "outputId": "0029aef6-7618-47db-87a9-6804e28f4e50"
      },
      "source": [
        "# MEDIA 2019\n",
        "media2019 = sum(somaInfra2019)/12\n",
        "media2019"
      ],
      "execution_count": null,
      "outputs": [
        {
          "output_type": "execute_result",
          "data": {
            "text/plain": [
              "101906.16666666667"
            ]
          },
          "metadata": {},
          "execution_count": 127
        }
      ]
    },
    {
      "cell_type": "code",
      "metadata": {
        "colab": {
          "base_uri": "https://localhost:8080/"
        },
        "id": "zlMtWPG-XQMi",
        "outputId": "381e68ce-360f-4d3b-f307-a549d4d9014b"
      },
      "source": [
        "#MEDIA 2020\n",
        "media2020 = sum(somaInfra2020)/12\n",
        "media2020"
      ],
      "execution_count": null,
      "outputs": [
        {
          "output_type": "execute_result",
          "data": {
            "text/plain": [
              "52821.666666666664"
            ]
          },
          "metadata": {},
          "execution_count": 128
        }
      ]
    },
    {
      "cell_type": "code",
      "metadata": {
        "colab": {
          "base_uri": "https://localhost:8080/"
        },
        "id": "cmt_gFNMXaq6",
        "outputId": "f2ed5116-3a27-4d10-a1b8-a8170a637de4"
      },
      "source": [
        "# PERCENTUAL MÉDIA 2019 - 2020\n",
        "mediaInfra = [media2019, media2020]\n",
        "media = pd.Series(mediaInfra)\n",
        "media.pct_change()"
      ],
      "execution_count": null,
      "outputs": [
        {
          "output_type": "execute_result",
          "data": {
            "text/plain": [
              "0         NaN\n",
              "1   -0.481664\n",
              "dtype: float64"
            ]
          },
          "metadata": {},
          "execution_count": 129
        }
      ]
    },
    {
      "cell_type": "code",
      "metadata": {
        "colab": {
          "base_uri": "https://localhost:8080/"
        },
        "id": "nkjgxPQoX91y",
        "outputId": "a1f1cd63-5900-4980-bfbe-da82d078d429"
      },
      "source": [
        "# PERCENTUAL PICO 2019 MÊS ABRIL 2020\n",
        "percentual = [somaInfra2019[9], somaInfra2020[3]]\n",
        "percentual = pd.Series(percentual)\n",
        "percentual.pct_change()\n"
      ],
      "execution_count": null,
      "outputs": [
        {
          "output_type": "execute_result",
          "data": {
            "text/plain": [
              "0         NaN\n",
              "1   -0.785801\n",
              "dtype: float64"
            ]
          },
          "metadata": {},
          "execution_count": 130
        }
      ]
    },
    {
      "cell_type": "code",
      "metadata": {
        "colab": {
          "base_uri": "https://localhost:8080/"
        },
        "id": "06guN-MUaPWZ",
        "outputId": "d6354a5e-f540-436e-ec24-d0b366379c51"
      },
      "source": [
        "# PERCENTUAL PICO 2019 MÊS ABRIL 2021\n",
        "percentual = [somaInfra2019[9], somaInfra2021[3]]\n",
        "percentual = pd.Series(percentual)\n",
        "percentual.pct_change()"
      ],
      "execution_count": null,
      "outputs": [
        {
          "output_type": "execute_result",
          "data": {
            "text/plain": [
              "0         NaN\n",
              "1   -0.548478\n",
              "dtype: float64"
            ]
          },
          "metadata": {},
          "execution_count": 131
        }
      ]
    },
    {
      "cell_type": "code",
      "metadata": {
        "colab": {
          "base_uri": "https://localhost:8080/"
        },
        "id": "kJO7qvCcab8L",
        "outputId": "360e5901-2a3a-4a8f-bcd8-540ab5331a2f"
      },
      "source": [
        "# DIFERENÇA EM PERCENTUAL ENTRE ABRIL DE 2019, 2020\n",
        "percentual_2019 = [somaInfra2019[3], somaInfra2020[3]]\n",
        "percentual_2019 = pd.Series(percentual_2019)\n",
        "percentual_2019.pct_change()"
      ],
      "execution_count": null,
      "outputs": [
        {
          "output_type": "execute_result",
          "data": {
            "text/plain": [
              "0         NaN\n",
              "1   -0.768682\n",
              "dtype: float64"
            ]
          },
          "metadata": {},
          "execution_count": 132
        }
      ]
    },
    {
      "cell_type": "code",
      "metadata": {
        "colab": {
          "base_uri": "https://localhost:8080/"
        },
        "id": "nyWdT54za73x",
        "outputId": "8f11230e-8be3-406e-8e74-16cc7d35d737"
      },
      "source": [
        "# DIFERENÇA EM PERCENTUAL ENTRE ABRIL DE 2019, 2021\n",
        "percentual_2021 = [somaInfra2019[3], somaInfra2021[3]]\n",
        "percentual_2021 = pd.Series(percentual_2021)\n",
        "percentual_2021.pct_change()"
      ],
      "execution_count": null,
      "outputs": [
        {
          "output_type": "execute_result",
          "data": {
            "text/plain": [
              "0         NaN\n",
              "1   -0.512392\n",
              "dtype: float64"
            ]
          },
          "metadata": {},
          "execution_count": 133
        }
      ]
    },
    {
      "cell_type": "code",
      "metadata": {
        "colab": {
          "base_uri": "https://localhost:8080/"
        },
        "id": "_mtFTWsWbDFJ",
        "outputId": "46a055c9-6cca-4c2e-c29b-0329df505030"
      },
      "source": [
        "# DIFERENÇA EM PERCENTUAL ENTRE ABRIL DE 2020, 2021\n",
        "percentual_2020 = [somaInfra2020[3], somaInfra2021[3]]\n",
        "percentual_2020 = pd.Series(percentual_2020)\n",
        "percentual_2020.pct_change()"
      ],
      "execution_count": null,
      "outputs": [
        {
          "output_type": "execute_result",
          "data": {
            "text/plain": [
              "0         NaN\n",
              "1    1.107958\n",
              "dtype: float64"
            ]
          },
          "metadata": {},
          "execution_count": 134
        }
      ]
    },
    {
      "cell_type": "code",
      "metadata": {
        "colab": {
          "base_uri": "https://localhost:8080/"
        },
        "id": "Ehh_OgL7rEr4",
        "outputId": "ca77192d-c36e-46b5-93b6-dfdcebbc864c"
      },
      "source": [
        "# NÚMEROS DE CASOS DE COVID-19 EM 2020 MESES DE ABRIL E MARÇO\n",
        "mar_2020 = 184\n",
        "abril_2020 = 2655\n",
        "covid_2020 = [mar_2020,abril_2020]\n",
        "covid_2020 = pd.Series(covid_2020)\n",
        "covid_2020.pct_change()"
      ],
      "execution_count": null,
      "outputs": [
        {
          "output_type": "execute_result",
          "data": {
            "text/plain": [
              "0          NaN\n",
              "1    13.429348\n",
              "dtype: float64"
            ]
          },
          "metadata": {},
          "execution_count": 135
        }
      ]
    },
    {
      "cell_type": "code",
      "metadata": {
        "colab": {
          "base_uri": "https://localhost:8080/"
        },
        "id": "cfvegRPAboch",
        "outputId": "85465def-8254-4437-f1c7-b57e8912d920"
      },
      "source": [
        "# NÚMEROS DE CASOS DE COVID-19 EM 2020 MESES DE ABRIL E MAIO\n",
        "maio_2020 = 13854\n",
        "abril_2020 = 2655\n",
        "covid_2020 = [abril_2020, maio_2020]\n",
        "covid_2020 = pd.Series(covid_2020)\n",
        "covid_2020.pct_change()"
      ],
      "execution_count": null,
      "outputs": [
        {
          "output_type": "execute_result",
          "data": {
            "text/plain": [
              "0         NaN\n",
              "1    4.218079\n",
              "dtype: float64"
            ]
          },
          "metadata": {},
          "execution_count": 136
        }
      ]
    },
    {
      "cell_type": "code",
      "metadata": {
        "colab": {
          "base_uri": "https://localhost:8080/"
        },
        "id": "pcLaFKRTcfgB",
        "outputId": "019960b3-6100-41b2-b766-904596a822f9"
      },
      "source": [
        "# NÚMEROS DE CASOS DE COVID-19 EM 2021 MESES DE ABRIL E MARÇO\n",
        "mar_2021 = 70887\n",
        "abril_2021 = 63675\n",
        "covid_2021 = [abril_2021, mar_2021, abril_2021]\n",
        "covid_2021 = pd.Series(covid_2021)\n",
        "covid_2021.pct_change()"
      ],
      "execution_count": null,
      "outputs": [
        {
          "output_type": "execute_result",
          "data": {
            "text/plain": [
              "0         NaN\n",
              "1    0.113263\n",
              "2   -0.101739\n",
              "dtype: float64"
            ]
          },
          "metadata": {},
          "execution_count": 137
        }
      ]
    },
    {
      "cell_type": "code",
      "metadata": {
        "colab": {
          "base_uri": "https://localhost:8080/"
        },
        "id": "ffnGzdm2gBr3",
        "outputId": "3b50fccf-cfc2-432c-b3bc-01a2a9df8c97"
      },
      "source": [
        "#DIFERENÇA PERCENTUAL MÊS DE ABRIL E MAIO 2020\n",
        "difPerSomaInfra2020 = [somaInfra2020[3], somaInfra2020[4]]\n",
        "difPerSomaInfra2020 = pd.Series(difPerSomaInfra2020)\n",
        "difPerSomaInfra2020.pct_change()"
      ],
      "execution_count": null,
      "outputs": [
        {
          "output_type": "execute_result",
          "data": {
            "text/plain": [
              "0         NaN\n",
              "1    0.351569\n",
              "dtype: float64"
            ]
          },
          "metadata": {},
          "execution_count": 138
        }
      ]
    },
    {
      "cell_type": "code",
      "metadata": {
        "colab": {
          "base_uri": "https://localhost:8080/"
        },
        "id": "mg4t0GHQgXAY",
        "outputId": "eac4403f-b9e6-498a-fca5-c271fd3a9106"
      },
      "source": [
        "#DIFERENÇA PERCENTUAL MÊS DE ABRIL E MAIO 2021\n",
        "difPerSomaInfra2021 = [somaInfra2021[2], somaInfra2021[3]]\n",
        "difPerSomaInfra2021 = pd.Series(difPerSomaInfra2021)\n",
        "difPerSomaInfra2021.pct_change()"
      ],
      "execution_count": null,
      "outputs": [
        {
          "output_type": "execute_result",
          "data": {
            "text/plain": [
              "0         NaN\n",
              "1   -0.095839\n",
              "dtype: float64"
            ]
          },
          "metadata": {},
          "execution_count": 139
        }
      ]
    },
    {
      "cell_type": "code",
      "metadata": {
        "colab": {
          "base_uri": "https://localhost:8080/"
        },
        "id": "qfaqecE5JhPt",
        "outputId": "3e764ffe-1d36-48dc-a226-35f7bc170c03"
      },
      "source": [
        "#DIFERENÇA ENTRE CARGAS ANO DE 2019 E 2020\n",
        "difPerSomaInfraCarga2021 = [365296040, 156020278 ]\n",
        "difPerSomaInfra2021Carga = pd.Series(difPerSomaInfra2021)\n",
        "difPerSomaInfra2021Carga.pct_change()"
      ],
      "execution_count": null,
      "outputs": [
        {
          "output_type": "execute_result",
          "data": {
            "text/plain": [
              "0         NaN\n",
              "1   -0.095839\n",
              "dtype: float64"
            ]
          },
          "metadata": {},
          "execution_count": 140
        }
      ]
    }
  ]
}