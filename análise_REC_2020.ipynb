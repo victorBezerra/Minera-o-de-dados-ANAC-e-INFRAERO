{
  "nbformat": 4,
  "nbformat_minor": 0,
  "metadata": {
    "colab": {
      "name": "análise_REC_2020.ipynb",
      "provenance": [],
      "authorship_tag": "ABX9TyMnzSlj1thnjp029xtbfRMC",
      "include_colab_link": true
    },
    "kernelspec": {
      "name": "python3",
      "display_name": "Python 3"
    },
    "language_info": {
      "name": "python"
    }
  },
  "cells": [
    {
      "cell_type": "markdown",
      "metadata": {
        "id": "view-in-github",
        "colab_type": "text"
      },
      "source": [
        "<a href=\"https://colab.research.google.com/github/victorBezerra/Minera-o-de-dados-ANAC-e-INFRAERO/blob/main/an%C3%A1lise_REC_2020.ipynb\" target=\"_parent\"><img src=\"https://colab.research.google.com/assets/colab-badge.svg\" alt=\"Open In Colab\"/></a>"
      ]
    },
    {
      "cell_type": "code",
      "metadata": {
        "id": "m6ctV8zGdOOy"
      },
      "source": [
        "import pandas as pd\n",
        "import datetime as dt\n",
        "import matplotlib as mt\n",
        "import matplotlib.pyplot as plt\n",
        "import numpy as np"
      ],
      "execution_count": null,
      "outputs": []
    },
    {
      "cell_type": "code",
      "metadata": {
        "id": "ZLjoszBqdTt6"
      },
      "source": [
        "dadosAnacRECS20 = pd.read_csv(\"https://sistemas.anac.gov.br/dadosabertos/Voos%20e%20opera%C3%A7%C3%B5es%20a%C3%A9reas/Slots%20Alocados/2020/REC/S20/LIVE_REC_S20-SD.csv\", sep = \";\", encoding=\"utf_8\", skiprows=[0])\n",
        "dadosAnacRECW20 = pd.read_csv(\"https://sistemas.anac.gov.br/dadosabertos/Voos%20e%20opera%C3%A7%C3%B5es%20a%C3%A9reas/Slots%20Alocados/2020/REC/W20/LIVE_REC_W20-SD.csv\", sep = \";\", encoding=\"utf_8\", skiprows=[0])\n",
        "dadosAnacRECW19 = pd.read_csv(\"https://sistemas.anac.gov.br/dadosabertos/Voos%20e%20opera%C3%A7%C3%B5es%20a%C3%A9reas/Slots%20Alocados/2019/REC/W19/LIVE_REC_W19-SD.csv\", sep = \";\", encoding=\"utf_8\", skiprows=[0])"
      ],
      "execution_count": null,
      "outputs": []
    },
    {
      "cell_type": "code",
      "metadata": {
        "id": "H7lFJprYdX0h"
      },
      "source": [
        "dadosAnacRECS20['DatadoVoo'] = pd.to_datetime(dadosAnacRECS20['DatadoVoo'])\n",
        "dadosAnacRECS20['DatadoVoo'] = dadosAnacRECS20['DatadoVoo'].dt.month\n",
        "dadosAnacRECW20['DatadoVoo'] = pd.to_datetime(dadosAnacRECW20['DatadoVoo'])\n",
        "dadosAnacRECW20['DatadoVoo'] = dadosAnacRECW20['DatadoVoo'].dt.month\n",
        "dadosAnacRECW19['DatadoVoo'] = pd.to_datetime(dadosAnacRECW19['DatadoVoo'])\n",
        "dadosAnacRECW19['DatadoVoo'] = dadosAnacRECW19['DatadoVoo'].dt.month"
      ],
      "execution_count": null,
      "outputs": []
    },
    {
      "cell_type": "code",
      "metadata": {
        "id": "nMecNTcIde80"
      },
      "source": [
        "removeREC = dadosAnacRECW19.loc[(dadosAnacRECW19['DatadoVoo'] == 10) | (dadosAnacRECW19['DatadoVoo'] == 11) | (dadosAnacRECW19['DatadoVoo'] == 12)]\n",
        "dadosAnacRECW19 = dadosAnacRECW19.drop(removeREC.index)\n",
        "removeREC = dadosAnacRECW20.loc[(dadosAnacRECW20['DatadoVoo'] == 1) | (dadosAnacRECW20['DatadoVoo'] == 2) | (dadosAnacRECW20['DatadoVoo'] == 3)]\n",
        "dadosAnacRECW20 = dadosAnacRECW20.drop(removeREC.index)"
      ],
      "execution_count": null,
      "outputs": []
    },
    {
      "cell_type": "code",
      "metadata": {
        "id": "wIzDO6cBdffj"
      },
      "source": [
        "dadosAnacRECMerge  = pd.merge(dadosAnacRECS20, dadosAnacRECW20, how='outer')\n",
        "dadosAnacRECConcat = pd.concat([dadosAnacRECMerge, dadosAnacRECW19])"
      ],
      "execution_count": null,
      "outputs": []
    },
    {
      "cell_type": "code",
      "metadata": {
        "id": "iQGMM_yNdh7z"
      },
      "source": [
        "dadosAnacRECJan20 = dadosAnacRECConcat.loc[dadosAnacRECConcat['DatadoVoo'] == 1]\n",
        "dadosAnacRECFev20 = dadosAnacRECConcat.loc[dadosAnacRECConcat['DatadoVoo'] == 2]\n",
        "dadosAnacRECMar20 = dadosAnacRECConcat.loc[dadosAnacRECConcat['DatadoVoo'] == 3]\n",
        "dadosAnacRECAbr20 = dadosAnacRECConcat.loc[dadosAnacRECConcat['DatadoVoo'] == 4]\n",
        "dadosAnacRECMai20 = dadosAnacRECConcat.loc[dadosAnacRECConcat['DatadoVoo'] == 5]\n",
        "dadosAnacRECJun20 = dadosAnacRECConcat.loc[dadosAnacRECConcat['DatadoVoo'] == 6]\n",
        "dadosAnacRECJul20 = dadosAnacRECConcat.loc[dadosAnacRECConcat['DatadoVoo'] == 7]\n",
        "dadosAnacRECAgo20 = dadosAnacRECConcat.loc[dadosAnacRECConcat['DatadoVoo'] == 8]\n",
        "dadosAnacRECSet20 = dadosAnacRECConcat.loc[dadosAnacRECConcat['DatadoVoo'] == 9]\n",
        "dadosAnacRECOut20 = dadosAnacRECConcat.loc[dadosAnacRECConcat['DatadoVoo'] == 10]\n",
        "dadosAnacRECNov20 = dadosAnacRECConcat.loc[dadosAnacRECConcat['DatadoVoo'] == 11]\n",
        "dadosAnacRECDez20 = dadosAnacRECConcat.loc[dadosAnacRECConcat['DatadoVoo'] == 12]"
      ],
      "execution_count": null,
      "outputs": []
    },
    {
      "cell_type": "code",
      "metadata": {
        "id": "_Hn_-Tvbdlez"
      },
      "source": [
        "somaAnacRECJan = dadosAnacRECJan20['DatadoVoo'].value_counts()\n",
        "somaAnacRECJan = somaAnacRECJan.values\n",
        "somaAnacRECFev = dadosAnacRECFev20['DatadoVoo'].value_counts()\n",
        "somaAnacRECFev = somaAnacRECFev.values\n",
        "somaAnacRECMar = dadosAnacRECMar20['DatadoVoo'].value_counts()\n",
        "somaAnacRECMar = somaAnacRECMar.values\n",
        "somaAnacRECAbr = dadosAnacRECAbr20['DatadoVoo'].value_counts()\n",
        "somaAnacRECAbr = somaAnacRECAbr.values\n",
        "somaAnacRECMai = dadosAnacRECMai20['DatadoVoo'].value_counts()\n",
        "somaAnacRECMai = somaAnacRECMai.values\n",
        "somaAnacRECJun = dadosAnacRECJun20['DatadoVoo'].value_counts()\n",
        "somaAnacRECJun = somaAnacRECJun.values\n",
        "somaAnacRECJul = dadosAnacRECJul20['DatadoVoo'].value_counts()\n",
        "somaAnacRECJul = somaAnacRECJul.values\n",
        "somaAnacRECAgo = dadosAnacRECAgo20['DatadoVoo'].value_counts()\n",
        "somaAnacRECAgo = somaAnacRECAgo.values\n",
        "somaAnacRECSet = dadosAnacRECSet20['DatadoVoo'].value_counts()\n",
        "somaAnacRECSet = somaAnacRECSet.values\n",
        "somaAnacRECOut = dadosAnacRECOut20['DatadoVoo'].value_counts()\n",
        "somaAnacRECOut = somaAnacRECOut.values\n",
        "somaAnacRECNov = dadosAnacRECNov20['DatadoVoo'].value_counts()\n",
        "somaAnacRECNov = somaAnacRECNov.values\n",
        "somaAnacRECDez = dadosAnacRECDez20['DatadoVoo'].value_counts()\n",
        "somaAnacRECDez = somaAnacRECDez.values\n",
        "somaAnacREC = [somaAnacRECJan[0], somaAnacRECFev[0], somaAnacRECMar[0], somaAnacRECAbr[0], somaAnacRECMai[0], somaAnacRECJun[0], somaAnacRECJul[0], somaAnacRECAgo[0], somaAnacRECSet[0], somaAnacRECOut[0], somaAnacRECNov[0], somaAnacRECDez[0]]"
      ],
      "execution_count": null,
      "outputs": []
    },
    {
      "cell_type": "code",
      "metadata": {
        "colab": {
          "base_uri": "https://localhost:8080/",
          "height": 541
        },
        "id": "epz-aYrjdpAT",
        "outputId": "5390b745-6061-4552-b974-57020de02114"
      },
      "source": [
        "names =   ['jan', 'fev', 'mar', 'abr', 'mai', 'jun', 'jul', 'ago', 'set', 'out', 'nov', 'dez']\n",
        "values =  [somaAnacREC[0], somaAnacREC[1], somaAnacREC[2], somaAnacREC[3], somaAnacREC[4], somaAnacREC[5], somaAnacREC[6], somaAnacREC[7], somaAnacREC[8], somaAnacREC[9], somaAnacREC[10], somaAnacREC[11]]\n",
        "\n",
        "plt.figure(figsize=(18, 8))\n",
        "\n",
        "SMALL_SIZE = 15\n",
        "MEDIUM_SIZE = 30\n",
        "BIGGER_SIZE = 40\n",
        "\n",
        "plt.rc('font', size=SMALL_SIZE)          # controls default text sizes\n",
        "plt.rc('axes', titlesize=SMALL_SIZE)     # fontsize of the axes title\n",
        "plt.rc('axes', labelsize=MEDIUM_SIZE)    # fontsize of the x and y labels\n",
        "plt.rc('xtick', labelsize=SMALL_SIZE)    # fontsize of the tick labels\n",
        "plt.rc('ytick', labelsize=SMALL_SIZE)    # fontsize of the tick labels\n",
        "plt.rc('legend', fontsize=SMALL_SIZE)    # legend fontsize\n",
        "plt.rc('figure', titlesize=BIGGER_SIZE)  # fontsize of the figure title\n",
        "\n",
        "plt.style.use('seaborn-whitegrid')\n",
        "plt.bar(names, values, color='powderblue', edgecolor='black')\n",
        "\n",
        "for i in range(len(names)):\n",
        "    plt.annotate(str(values[i]), xy=(names[i],values[i]),\n",
        "                 ha='center',va='center', xytext=(0,10), size=SMALL_SIZE-1,\n",
        "                 bbox=dict(facecolor='azure', edgecolor='aliceblue', pad=2.0), textcoords = 'offset points')\n",
        "\n",
        "plt.suptitle('Operações REC - 2020')\n",
        "plt.axhline(y=np.mean(values[values != 0]), color='navy', linestyle='-',linewidth=3) #plot the mean without zeros\n",
        "\n",
        "plt.show()"
      ],
      "execution_count": null,
      "outputs": [
        {
          "output_type": "display_data",
          "data": {
            "image/png": "[encoded data removed]",
            "text/plain": [
              "<Figure size 1296x576 with 1 Axes>"
            ]
          },
          "metadata": {
            "needs_background": "light"
          }
        }
      ]
    },
    {
      "cell_type": "code",
      "metadata": {
        "colab": {
          "base_uri": "https://localhost:8080/"
        },
        "id": "HUzvt6ENdrxb",
        "outputId": "5354bdc7-747a-45de-cbdc-c147a116dcd0"
      },
      "source": [
        "somaRec2020 = [somaAnacREC[0], somaAnacREC[3]]\n",
        "somaRec2020 = pd.Series(somaRec2020)\n",
        "somaRec2020.pct_change()\n",
        "# Maior mês e menor mês do ano de 2020"
      ],
      "execution_count": null,
      "outputs": [
        {
          "output_type": "execute_result",
          "data": {
            "text/plain": [
              "0         NaN\n",
              "1   -0.915756\n",
              "dtype: float64"
            ]
          },
          "metadata": {},
          "execution_count": 10
        }
      ]
    },
    {
      "cell_type": "code",
      "metadata": {
        "colab": {
          "base_uri": "https://localhost:8080/"
        },
        "id": "OYcMhE33dyBA",
        "outputId": "9cfc2984-8364-49ec-c275-8c17ea0a062c"
      },
      "source": [
        "somaREC2020 = [somaAnacREC[3], somaAnacREC[4]]\n",
        "somaREC2020 = pd.Series(somaREC2020)\n",
        "somaREC2020.pct_change()\n",
        "# Mês de maio e abril"
      ],
      "execution_count": null,
      "outputs": [
        {
          "output_type": "execute_result",
          "data": {
            "text/plain": [
              "0         NaN\n",
              "1    0.319468\n",
              "dtype: float64"
            ]
          },
          "metadata": {},
          "execution_count": 12
        }
      ]
    },
    {
      "cell_type": "code",
      "metadata": {
        "colab": {
          "base_uri": "https://localhost:8080/"
        },
        "id": "r3IFrF22d0Cp",
        "outputId": "41233a44-ef94-4e40-f507-2cb4ee3fa878"
      },
      "source": [
        "somaREC2020 = [somaAnacREC[2], somaAnacREC[3]]\n",
        "somaREC2020 = pd.Series(somaREC2020)\n",
        "somaREC2020.pct_change()\n",
        "# Mês de março e abril"
      ],
      "execution_count": null,
      "outputs": [
        {
          "output_type": "execute_result",
          "data": {
            "text/plain": [
              "0         NaN\n",
              "1   -0.865095\n",
              "dtype: float64"
            ]
          },
          "metadata": {},
          "execution_count": 13
        }
      ]
    }
  ]
}